{
 "cells": [
  {
   "cell_type": "code",
   "execution_count": 1,
   "metadata": {},
   "outputs": [],
   "source": [
    "%matplotlib inline\n",
    "\n",
    "import matplotlib.pyplot as plt\n",
    "import pandas as pd\n",
    "import numpy as np\n",
    "\n",
    "import seaborn as sns; sns.set()\n",
    "\n",
    "import sys\n",
    "\n",
    "# Follow instructions here to get cvxopt working. --- painful!!! \n",
    "#https://stackoverflow.com/questions/46009925/how-to-install-cvxopt-on-on-windows-10-on-python-3-6\n",
    "from cvxopt import matrix, solvers"
   ]
  },
  {
   "cell_type": "markdown",
   "metadata": {},
   "source": [
    "# Regularized Linear Regression "
   ]
  },
  {
   "cell_type": "markdown",
   "metadata": {},
   "source": [
    "### Common code for questions 7-10"
   ]
  },
  {
   "cell_type": "markdown",
   "metadata": {},
   "source": [
    "Load training and testing data in pandas dataframes"
   ]
  },
  {
   "cell_type": "code",
   "execution_count": 2,
   "metadata": {},
   "outputs": [],
   "source": [
    "def load_data():\n",
    "    column_names = ['digit', 'intensity', 'symmetry']\n",
    "    sep = '\\s+'\n",
    "    features_train = pd.read_table('http://www.amlbook.com/data/zip/features.train', sep=sep, names=column_names)\n",
    "    features_test = pd.read_table('http://www.amlbook.com/data/zip/features.test', sep=sep, names=column_names)\n",
    "    return features_train, features_test"
   ]
  },
  {
   "cell_type": "code",
   "execution_count": 3,
   "metadata": {},
   "outputs": [],
   "source": [
    "features_train, features_test = load_data()"
   ]
  },
  {
   "cell_type": "markdown",
   "metadata": {},
   "source": [
    "Set output labels for classifiers"
   ]
  },
  {
   "cell_type": "code",
   "execution_count": 4,
   "metadata": {},
   "outputs": [],
   "source": [
    "classifiers_one_vs_all = dict(\n",
    "    {'zero_vs_all': 0,\n",
    "     'one_vs_all': 1,\n",
    "     'two_vs_all': 2,\n",
    "     'three_vs_all': 3,\n",
    "     'four_vs_all': 4,\n",
    "     'five_vs_all': 5,\n",
    "     'six_vs_all': 6,\n",
    "     'seven_vs_all': 7,\n",
    "     'eight_vs_all': 8,\n",
    "     'nine_vs_all': 9\n",
    "    }\n",
    ")"
   ]
  },
  {
   "cell_type": "code",
   "execution_count": 5,
   "metadata": {},
   "outputs": [],
   "source": [
    "classifiers_one_vs_five = {'one_vs_five': [1,5]}"
   ]
  },
  {
   "cell_type": "markdown",
   "metadata": {},
   "source": [
    "Create one-versus-all and one-versus-five dataframes"
   ]
  },
  {
   "cell_type": "code",
   "execution_count": 6,
   "metadata": {},
   "outputs": [],
   "source": [
    "def create_one_vs_all_dataframe(df, classifiers):\n",
    "    # add binary labels to dataframe\n",
    "    one_vs_all = pd.DataFrame(df, copy=True)\n",
    "    for class_label, digit in classifiers.items():\n",
    "        labels = one_vs_all.loc[one_vs_all['digit'] == digit, 'digit']\n",
    "        labels.loc[:] = 1.0\n",
    "        one_vs_all[class_label] = labels\n",
    "        \n",
    "    one_vs_all.fillna(-1.0, inplace=True)\n",
    "    return one_vs_all"
   ]
  },
  {
   "cell_type": "code",
   "execution_count": 7,
   "metadata": {},
   "outputs": [],
   "source": [
    "features_train_one_vs_all = create_one_vs_all_dataframe(features_train, classifiers_one_vs_all)\n",
    "features_test_one_vs_all = create_one_vs_all_dataframe(features_test, classifiers_one_vs_all)"
   ]
  },
  {
   "cell_type": "code",
   "execution_count": 8,
   "metadata": {},
   "outputs": [],
   "source": [
    "def create_one_vs_one_dataframe(df, classifiers):\n",
    "    # add binary labels to dataframe  \n",
    "    for class_label in classifiers.keys():\n",
    "        digits = classifiers[class_label]\n",
    "        one_vs_one = pd.DataFrame(df.loc[df['digit'].isin(digits),:], copy=True)\n",
    "        for digit in digits:\n",
    "            labels = one_vs_one.loc[one_vs_one['digit'] == digit, 'digit']\n",
    "            labels.loc[:] = 1.0\n",
    "            one_vs_one[class_label] = labels\n",
    "            break\n",
    "        \n",
    "    one_vs_one.fillna(-1.0, inplace=True)\n",
    "    return one_vs_one"
   ]
  },
  {
   "cell_type": "code",
   "execution_count": 9,
   "metadata": {},
   "outputs": [],
   "source": [
    "features_train_one_vs_five = create_one_vs_one_dataframe(features_train, classifiers_one_vs_five)\n",
    "features_test_one_vs_five = create_one_vs_one_dataframe(features_test, classifiers_one_vs_five)"
   ]
  },
  {
   "cell_type": "markdown",
   "metadata": {},
   "source": [
    "Get dataset (inputs / outputs) for a specific classifier"
   ]
  },
  {
   "cell_type": "code",
   "execution_count": 10,
   "metadata": {},
   "outputs": [],
   "source": [
    "def get_dataset(df, class_label):\n",
    "    inputs = np.array(df.loc[:, ['intensity', 'symmetry']])\n",
    "    outputs = np.array(df.loc[:, class_label])\n",
    "    data = np.column_stack((inputs, outputs))\n",
    "    return data"
   ]
  },
  {
   "cell_type": "markdown",
   "metadata": {},
   "source": [
    "Implementation of regularized least-squares linear regression for classiﬁcation that minimizes:\n",
    "\n",
    "$$\\frac{1}{N}\\sum_{n=1}^{N}(\\textbf{w}^{T}\\textbf{z}_{n}-y_{n})^{2}+\\frac{\\lambda}{N}\\textbf{w}^{T}\\textbf{w}$$\n",
    "\n",
    "where $\\textbf{w}$ includes $w_{0}$."
   ]
  },
  {
   "cell_type": "code",
   "execution_count": 11,
   "metadata": {},
   "outputs": [],
   "source": [
    "class LinearRegression:\n",
    "    \"\"\" Class that performs regularized least-squares linear regression for classification. \"\"\"\n",
    "    \n",
    "    def __init__(self, transform=False):\n",
    "        \"\"\" Create a Linear Regression Algorithm. \n",
    "        Args:\n",
    "        transform (bool): If True, apply a feature transform z = (1, x1, x2, x1.x2, x1^2, x2^2) to the inputs (x1, x2)\n",
    "                          Otherwise, use inputs as they are so z = (1, x1, x2)\n",
    "        \"\"\"\n",
    "        self.transform = transform\n",
    "    \n",
    "    def fit(self, inputs, outputs, llambda=1.0):    \n",
    "        \"\"\"Fit the training data using the regularized least-squares linear regression learning algorithm\n",
    "        Args:\n",
    "        inputs (np.ndarray): Inputs\n",
    "        outputs (np.ndarray): Outputs\n",
    "        llambda (float): Regularization parameter\n",
    "        Returns:\n",
    "        np.ndarray: Weights\n",
    "        \"\"\"      \n",
    "        # get inputs and outputs\n",
    "        Z = self.transform_inputs(inputs)\n",
    "        y = outputs\n",
    "        \n",
    "        # linear regression solution with regularization\n",
    "        Z_trans = np.transpose(Z)\n",
    "        normZ = np.matmul(Z_trans, Z)  \n",
    "        I = np.identity(np.size(normZ, axis=0))\n",
    "        weights = np.matmul(np.linalg.inv(np.add(normZ, llambda * I)), np.matmul(Z_trans, y))\n",
    "        return weights\n",
    "    \n",
    "    def binary_error(self, weights, inputs, outputs):    \n",
    "        \"\"\"Compute binary classification error of sample\n",
    "        Args:\n",
    "        weights (np.ndarray): Weights of hypothesis\n",
    "        inputs (np.ndarray): Inputs\n",
    "        outputs (np.ndarray): Outputs\n",
    "        Returns:\n",
    "        float: Binary classification error (fraction of misclassified points in the sample)\n",
    "        \"\"\"\n",
    "        Z = self.transform_inputs(inputs)\n",
    "        y = outputs\n",
    "        \n",
    "        g = [np.sign(np.dot(weights.T, z)) for z in Z]\n",
    "        return sum(g != y) / len(y)        \n",
    "         \n",
    "    # privates\n",
    "    def transform_inputs(self, inputs):\n",
    "        ones = np.ones(len(inputs)).reshape(len(inputs), 1)\n",
    "        x1 = inputs[:, 0].reshape(len(inputs), 1)\n",
    "        x2 = inputs[:, 1].reshape(len(inputs), 1)\n",
    "        \n",
    "        if self.transform:\n",
    "            return np.concatenate((ones, x1, x2, x1*x2, x1**2, x2**2), axis=1)\n",
    "        else:\n",
    "            return np.concatenate((ones, x1, x2), axis=1)"
   ]
  },
  {
   "cell_type": "markdown",
   "metadata": {},
   "source": [
    "Compute in-sample and out-of-sample errors"
   ]
  },
  {
   "cell_type": "code",
   "execution_count": 12,
   "metadata": {},
   "outputs": [],
   "source": [
    "def in_out_sample_errors(classifiers, features_train, features_test=pd.DataFrame(), llambda=1.0, transform=False):\n",
    "    results = []\n",
    "    \n",
    "    for class_label in classifiers.keys():\n",
    "            # get training data\n",
    "            dataset_train = get_dataset(features_train, class_label)\n",
    "            inputs_train = dataset_train[:, 0:2]\n",
    "            outputs_train = dataset_train[:, 2]\n",
    "            \n",
    "            # fit the model\n",
    "            lr = LinearRegression(transform)\n",
    "            weights = lr.fit(inputs_train, outputs_train, llambda)\n",
    "            \n",
    "            # compute in-sample error\n",
    "            error_in_sample = lr.binary_error(weights, inputs_train, outputs_train)\n",
    "            \n",
    "            # get testing data\n",
    "            error_out_sample = None\n",
    "            if not features_test.empty:\n",
    "                dataset_test = get_dataset(features_test, class_label)\n",
    "                inputs_test = dataset_test[:, 0:2]\n",
    "                outputs_test = dataset_test[:, 2]\n",
    "                \n",
    "                # compute out-of-sample error\n",
    "                error_out_sample =  lr.binary_error(weights, inputs_test, outputs_test)\n",
    "            \n",
    "            # add to results\n",
    "            result = {'classifier': class_label,\n",
    "                      'transform': transform,\n",
    "                      'lambda': llambda,\n",
    "                      'ein': error_in_sample,\n",
    "                      'eout': error_out_sample}\n",
    "            results.append(result)\n",
    "            \n",
    "    return results"
   ]
  },
  {
   "cell_type": "markdown",
   "metadata": {},
   "source": [
    "Print errors"
   ]
  },
  {
   "cell_type": "code",
   "execution_count": 13,
   "metadata": {},
   "outputs": [],
   "source": [
    "def print_binary_errors(results, print_classifiers=None, print_errors='both'):   \n",
    "    if print_errors not in ['ein', 'eout', 'both']:\n",
    "        raise ValueError('\"print_errors\" must either \"ein\", \"eout\" or \"both\"')\n",
    "    \n",
    "    for result in results:\n",
    "        if isinstance(print_classifiers, list) and result['classifier'] not in print_classifiers:\n",
    "            continue\n",
    "        \n",
    "        if print_errors == 'ein':\n",
    "            print('For transform = {0} and λ = {1}, the \"{2}\" classifier in-sample error Ein = {3}'\n",
    "                  .format(result['transform'], result['lambda'], result['classifier'], round(result['ein'], 3)))\n",
    "        elif print_errors == 'eout':\n",
    "            print('For transform = {0} and λ = {1}, the \"{2}\" classifier in-sample error Eout = {3}'\n",
    "                  .format(result['transform'], result['lambda'], result['classifier'], round(result['eout'], 3)))\n",
    "        elif print_errors == 'both':\n",
    "            print('For transform = {0} and λ = {1}, the \"{2}\" classifier in-sample error Ein = {3} '\n",
    "                  'and the out-of-sample-error Eout = {4}'\n",
    "                  .format(result['transform'], result['lambda'], result['classifier'], \n",
    "                          round(result['ein'], 3), round(result['eout'], 3)))"
   ]
  },
  {
   "cell_type": "markdown",
   "metadata": {},
   "source": [
    "### Question 7\n",
    "\n",
    "Compute in-sample error for 5-versus-all through to 9-versus-all classifier for $\\lambda$ = 1 without a feature transform $z = x = (1, x_{1}, x_{2})$"
   ]
  },
  {
   "cell_type": "code",
   "execution_count": 14,
   "metadata": {},
   "outputs": [],
   "source": [
    "results = in_out_sample_errors(classifiers_one_vs_all, features_train_one_vs_all, llambda=1.0, transform=False)"
   ]
  },
  {
   "cell_type": "code",
   "execution_count": 15,
   "metadata": {},
   "outputs": [
    {
     "name": "stdout",
     "output_type": "stream",
     "text": [
      "For transform = False and λ = 1.0, the \"five_vs_all\" classifier in-sample error Ein = 0.076\n",
      "For transform = False and λ = 1.0, the \"six_vs_all\" classifier in-sample error Ein = 0.091\n",
      "For transform = False and λ = 1.0, the \"seven_vs_all\" classifier in-sample error Ein = 0.088\n",
      "For transform = False and λ = 1.0, the \"eight_vs_all\" classifier in-sample error Ein = 0.074\n",
      "For transform = False and λ = 1.0, the \"nine_vs_all\" classifier in-sample error Ein = 0.088\n"
     ]
    }
   ],
   "source": [
    "print_binary_errors(results, print_classifiers=['five_vs_all', \n",
    "                                                'six_vs_all', \n",
    "                                                'seven_vs_all', \n",
    "                                                'eight_vs_all', \n",
    "                                                'nine_vs_all'],\n",
    "                    print_errors='ein')"
   ]
  },
  {
   "cell_type": "markdown",
   "metadata": {},
   "source": [
    "### Question 8\n",
    "\n",
    "Compute out-of-sample error for 0-versus-all through to 4-versus-all classifier for $\\lambda$ = 1 with a feature transform $z = (1, x_{1}, x_{2}, x_{1}x_{2}, x_{1}^2, x_{2}^2)$"
   ]
  },
  {
   "cell_type": "code",
   "execution_count": 16,
   "metadata": {},
   "outputs": [],
   "source": [
    "results = in_out_sample_errors(classifiers_one_vs_all, features_train_one_vs_all, features_test_one_vs_all, llambda=1.0, \n",
    "                               transform=True)"
   ]
  },
  {
   "cell_type": "code",
   "execution_count": 17,
   "metadata": {},
   "outputs": [
    {
     "name": "stdout",
     "output_type": "stream",
     "text": [
      "For transform = True and λ = 1.0, the \"zero_vs_all\" classifier in-sample error Eout = 0.107\n",
      "For transform = True and λ = 1.0, the \"one_vs_all\" classifier in-sample error Eout = 0.022\n",
      "For transform = True and λ = 1.0, the \"two_vs_all\" classifier in-sample error Eout = 0.099\n",
      "For transform = True and λ = 1.0, the \"three_vs_all\" classifier in-sample error Eout = 0.083\n",
      "For transform = True and λ = 1.0, the \"four_vs_all\" classifier in-sample error Eout = 0.1\n"
     ]
    }
   ],
   "source": [
    "print_binary_errors(results, print_classifiers=['zero_vs_all', \n",
    "                                                'one_vs_all', \n",
    "                                                'two_vs_all', \n",
    "                                                'three_vs_all', \n",
    "                                                'four_vs_all'],\n",
    "                    print_errors='eout')"
   ]
  },
  {
   "cell_type": "markdown",
   "metadata": {},
   "source": [
    "### Question 9\n",
    "\n",
    "Compare the in-sample and out-of-sample errors for 0-versus-all through to 9-versus-all classifier for $\\lambda$ = 1 with and without the feature transform"
   ]
  },
  {
   "cell_type": "code",
   "execution_count": 18,
   "metadata": {},
   "outputs": [],
   "source": [
    "results = in_out_sample_errors(classifiers_one_vs_all, features_train_one_vs_all, features_test_one_vs_all, llambda=1.0, \n",
    "                               transform=False)"
   ]
  },
  {
   "cell_type": "code",
   "execution_count": 19,
   "metadata": {},
   "outputs": [
    {
     "name": "stdout",
     "output_type": "stream",
     "text": [
      "For transform = False and λ = 1.0, the \"zero_vs_all\" classifier in-sample error Ein = 0.109 and the out-of-sample-error Eout = 0.115\n",
      "For transform = False and λ = 1.0, the \"one_vs_all\" classifier in-sample error Ein = 0.015 and the out-of-sample-error Eout = 0.022\n",
      "For transform = False and λ = 1.0, the \"two_vs_all\" classifier in-sample error Ein = 0.1 and the out-of-sample-error Eout = 0.099\n",
      "For transform = False and λ = 1.0, the \"three_vs_all\" classifier in-sample error Ein = 0.09 and the out-of-sample-error Eout = 0.083\n",
      "For transform = False and λ = 1.0, the \"four_vs_all\" classifier in-sample error Ein = 0.089 and the out-of-sample-error Eout = 0.1\n",
      "For transform = False and λ = 1.0, the \"five_vs_all\" classifier in-sample error Ein = 0.076 and the out-of-sample-error Eout = 0.08\n",
      "For transform = False and λ = 1.0, the \"six_vs_all\" classifier in-sample error Ein = 0.091 and the out-of-sample-error Eout = 0.085\n",
      "For transform = False and λ = 1.0, the \"seven_vs_all\" classifier in-sample error Ein = 0.088 and the out-of-sample-error Eout = 0.073\n",
      "For transform = False and λ = 1.0, the \"eight_vs_all\" classifier in-sample error Ein = 0.074 and the out-of-sample-error Eout = 0.083\n",
      "For transform = False and λ = 1.0, the \"nine_vs_all\" classifier in-sample error Ein = 0.088 and the out-of-sample-error Eout = 0.088\n"
     ]
    }
   ],
   "source": [
    "print_binary_errors(results, print_errors='both')"
   ]
  },
  {
   "cell_type": "code",
   "execution_count": 20,
   "metadata": {},
   "outputs": [],
   "source": [
    "results = in_out_sample_errors(classifiers_one_vs_all, features_train_one_vs_all, features_test_one_vs_all, llambda=1.0, \n",
    "                               transform=True)"
   ]
  },
  {
   "cell_type": "code",
   "execution_count": 21,
   "metadata": {},
   "outputs": [
    {
     "name": "stdout",
     "output_type": "stream",
     "text": [
      "For transform = True and λ = 1.0, the \"zero_vs_all\" classifier in-sample error Ein = 0.102 and the out-of-sample-error Eout = 0.107\n",
      "For transform = True and λ = 1.0, the \"one_vs_all\" classifier in-sample error Ein = 0.012 and the out-of-sample-error Eout = 0.022\n",
      "For transform = True and λ = 1.0, the \"two_vs_all\" classifier in-sample error Ein = 0.1 and the out-of-sample-error Eout = 0.099\n",
      "For transform = True and λ = 1.0, the \"three_vs_all\" classifier in-sample error Ein = 0.09 and the out-of-sample-error Eout = 0.083\n",
      "For transform = True and λ = 1.0, the \"four_vs_all\" classifier in-sample error Ein = 0.089 and the out-of-sample-error Eout = 0.1\n",
      "For transform = True and λ = 1.0, the \"five_vs_all\" classifier in-sample error Ein = 0.076 and the out-of-sample-error Eout = 0.079\n",
      "For transform = True and λ = 1.0, the \"six_vs_all\" classifier in-sample error Ein = 0.091 and the out-of-sample-error Eout = 0.085\n",
      "For transform = True and λ = 1.0, the \"seven_vs_all\" classifier in-sample error Ein = 0.088 and the out-of-sample-error Eout = 0.073\n",
      "For transform = True and λ = 1.0, the \"eight_vs_all\" classifier in-sample error Ein = 0.074 and the out-of-sample-error Eout = 0.083\n",
      "For transform = True and λ = 1.0, the \"nine_vs_all\" classifier in-sample error Ein = 0.088 and the out-of-sample-error Eout = 0.088\n"
     ]
    }
   ],
   "source": [
    "print_binary_errors(results, print_errors='both')"
   ]
  },
  {
   "cell_type": "markdown",
   "metadata": {},
   "source": [
    "### Question 10\n",
    "\n",
    "Compare the in-sample and out-of-sample errors for 0-versus-all through to 9-versus-all classifier for λ = 1.0 and λ = 0.01 with feature transform"
   ]
  },
  {
   "cell_type": "code",
   "execution_count": 22,
   "metadata": {},
   "outputs": [],
   "source": [
    "results = in_out_sample_errors(classifiers_one_vs_five, features_train_one_vs_five, features_test_one_vs_five, llambda=1.0, \n",
    "                               transform=True)"
   ]
  },
  {
   "cell_type": "code",
   "execution_count": 23,
   "metadata": {},
   "outputs": [
    {
     "name": "stdout",
     "output_type": "stream",
     "text": [
      "For transform = True and λ = 1.0, the \"one_vs_five\" classifier in-sample error Ein = 0.005 and the out-of-sample-error Eout = 0.026\n"
     ]
    }
   ],
   "source": [
    "print_binary_errors(results, print_errors='both')"
   ]
  },
  {
   "cell_type": "code",
   "execution_count": 24,
   "metadata": {},
   "outputs": [],
   "source": [
    "results = in_out_sample_errors(classifiers_one_vs_five, features_train_one_vs_five, features_test_one_vs_five, llambda=0.01, \n",
    "                               transform=True)"
   ]
  },
  {
   "cell_type": "code",
   "execution_count": 25,
   "metadata": {},
   "outputs": [
    {
     "name": "stdout",
     "output_type": "stream",
     "text": [
      "For transform = True and λ = 0.01, the \"one_vs_five\" classifier in-sample error Ein = 0.004 and the out-of-sample-error Eout = 0.028\n"
     ]
    }
   ],
   "source": [
    "print_binary_errors(results, print_errors='both')"
   ]
  },
  {
   "cell_type": "markdown",
   "metadata": {},
   "source": [
    "# Support Vector Machines "
   ]
  },
  {
   "cell_type": "markdown",
   "metadata": {},
   "source": [
    "### Common code for questions 11-12"
   ]
  },
  {
   "cell_type": "markdown",
   "metadata": {},
   "source": [
    "Create training data"
   ]
  },
  {
   "cell_type": "code",
   "execution_count": 26,
   "metadata": {},
   "outputs": [],
   "source": [
    "def get_training_set():\n",
    "    return np.array([1., 0., -1.,\n",
    "                     0., 1., -1.,\n",
    "                     0., -1., -1.,\n",
    "                     -1., 0., 1.,\n",
    "                     0., 2., 1.,\n",
    "                     0., -2., 1.,\n",
    "                     -2., 0., 1.]).reshape(7, 3)"
   ]
  },
  {
   "cell_type": "code",
   "execution_count": 27,
   "metadata": {},
   "outputs": [],
   "source": [
    "train_data = get_training_set()"
   ]
  },
  {
   "cell_type": "markdown",
   "metadata": {},
   "source": [
    "Plot data"
   ]
  },
  {
   "cell_type": "code",
   "execution_count": 28,
   "metadata": {},
   "outputs": [],
   "source": [
    "def plot_data(features, label, features_names=['$x_{1}$', '$x_{2}$'], plot_hyperplanes=False):\n",
    "    plt.scatter(features[:, 0], features[:, 1], c=label, cmap='rainbow');\n",
    "    plt.xlabel(features_names[0]);\n",
    "    plt.ylabel(features_names[1]);\n",
    "    \n",
    "    if plot_hyperplanes:\n",
    "        eps = 1e-12 # to prevent divide by zero\n",
    "        xfit = np.linspace(-3.5, 3.5)\n",
    "        \n",
    "        for w1, w2, b in [(-1., 1., -0.5), (1., -1., -0.5), (1., 0., -0.5), (0., 1., -0.5)]:\n",
    "            slope = -w1 / (w2+eps)\n",
    "            intercept = -b / (w2+eps)\n",
    "            yfit =  slope * xfit + intercept\n",
    "            plt.plot(xfit, yfit, label=\"w1 = {0}, w2 = {1}, b = {2}\".format(str(w1), str(w2), str(b)))\n",
    "            plt.legend(loc='upper left')\n",
    "        \n",
    "        plt.xlim(-3.5, 3.5);\n",
    "        plt.ylim(-3.5, 5.5);"
   ]
  },
  {
   "cell_type": "markdown",
   "metadata": {},
   "source": [
    "We see that the data is not linearly separable in the $\\mathcal{X}$ space"
   ]
  },
  {
   "cell_type": "code",
   "execution_count": 29,
   "metadata": {},
   "outputs": [
    {
     "data": {
      "image/png": "[encoded data removed]",
      "text/plain": [
       "<matplotlib.figure.Figure at 0x1ca23489ba8>"
      ]
     },
     "metadata": {},
     "output_type": "display_data"
    }
   ],
   "source": [
    "plot_data(train_data[:, 0:2], train_data[:, 2])"
   ]
  },
  {
   "cell_type": "markdown",
   "metadata": {},
   "source": [
    "We transform this training set into another two-dimensional space $\\mathcal{Z}$\n",
    "\n",
    "$$z_{1}=x_{2}^{2}-2x_{1}-1\\qquad z_{2}=x_{1}^{2}-2x_{2}+1$$"
   ]
  },
  {
   "cell_type": "code",
   "execution_count": 30,
   "metadata": {},
   "outputs": [],
   "source": [
    "def transform_inputs(inputs):\n",
    "    x1 = inputs[:, 0].reshape(len(inputs), 1)\n",
    "    x2 = inputs[:, 1].reshape(len(inputs), 1)\n",
    "    return np.concatenate((x2**2 - 2*x1 - 1, x1**2 - 2*x2 + 1), axis=1)"
   ]
  },
  {
   "cell_type": "code",
   "execution_count": 31,
   "metadata": {},
   "outputs": [],
   "source": [
    "train_inputs = transform_inputs(train_data[:, 0:2])"
   ]
  },
  {
   "cell_type": "markdown",
   "metadata": {},
   "source": [
    "We see that the data is now linearly separable in the $\\mathcal{Z}$ space (the last two points map on to the same point (3, 5))"
   ]
  },
  {
   "cell_type": "code",
   "execution_count": 32,
   "metadata": {},
   "outputs": [
    {
     "data": {
      "image/png": "[encoded data removed]",
      "text/plain": [
       "<matplotlib.figure.Figure at 0x1ca253bea90>"
      ]
     },
     "metadata": {},
     "output_type": "display_data"
    }
   ],
   "source": [
    "plot_data(train_inputs[:, 0:2], train_data[:, 2], features_names=['$z_{1}$', '$z_{2}$'])"
   ]
  },
  {
   "cell_type": "markdown",
   "metadata": {},
   "source": [
    "Implementation of hard-margin Support Vector Machines (SVM) classification learning algorithm using the kernel:\n",
    "\n",
    "$$K(x,x')=(1+\\textbf{x}_{T}\\textbf{x}')^{2}$$\n",
    "\n",
    "which corresponds to a second-order polynomial transformation)"
   ]
  },
  {
   "cell_type": "code",
   "execution_count": 33,
   "metadata": {},
   "outputs": [],
   "source": [
    "class SVM:\n",
    "    \"\"\" Class that performs hard-margin Support Vector Machines (SVM) classification using polynomial kernel of degree 2. \"\"\"\n",
    "    def __init__(self, kernel='poly', Q=2, gamma=1.0):\n",
    "        \"\"\" Create a Support Vector Machine Algorithm (SVM). \n",
    "        Args:\n",
    "        kernel (string): Kernel to use, \"poly\" (polynomial) or \"rbf\" (radial basis function)\n",
    "        Q (int): Degree of the polynomial kernel (Q >= 0)\n",
    "        gamma (float): Constant in the RBF kernel\n",
    "        \"\"\"\n",
    "        if kernel not in ['poly','rbf']:\n",
    "            raise ValueError('Kernel must be \"poly\" or \"rbf\".')\n",
    "        \n",
    "        self.kernel = kernel\n",
    "        self.Q = Q\n",
    "        self.gamma = gamma\n",
    "    \n",
    "    def fit(self, inputs, outputs):\n",
    "        \"\"\"Fit the training data using the hard-margin Support Vector Machines (SVM) learning algorithm.\n",
    "        Args:\n",
    "        inputs (np.ndarray): Input points.\n",
    "        outputs (np.ndarray): Targets.\n",
    "        Returns:\n",
    "        Tuple(np.ndarray, np.ndarray, np.ndarray, float): alphas, support vectors, support vector outputs, b\n",
    "        \"\"\" \n",
    "        xn = inputs\n",
    "        yn = outputs\n",
    "        N = len(xn)\n",
    "        \n",
    "        mat = []\n",
    "        for row_idx in range(0, N):\n",
    "            for col_idx in range(0, N):\n",
    "                if self.kernel == 'poly':\n",
    "                    kernel = self.kernel_poly(xn[row_idx], xn[col_idx])\n",
    "                elif self.kernel == 'rbf':\n",
    "                    kernel = self.kernel_rbf(xn[row_idx], xn[col_idx])\n",
    "                val = yn[row_idx] * yn[col_idx] * kernel\n",
    "                mat.append(val)\n",
    "        mat = np.array(mat).reshape((N, N))\n",
    "        \n",
    "        # form matrices for quadratic programming solver\n",
    "        dim = len(xn[0])\n",
    "        P = matrix(mat, tc='d')\n",
    "        q = matrix(-np.ones(N), tc='d')\n",
    "        b = matrix(0.0, tc='d')\n",
    "        A = matrix(yn, tc='d')\n",
    "        A = A.trans()\n",
    "        G = matrix(-np.identity(N), tc='d')\n",
    "        h = matrix(np.zeros(N), tc='d')\n",
    "        \n",
    "        #print('P = ', P)\n",
    "        #print('q = ', q)\n",
    "        #print('G = ', G)\n",
    "        #print('h = ', h)\n",
    "        #print('A = ', A)\n",
    "        #print('b = ', b)\n",
    "                \n",
    "        # call qp solver to compute weights\n",
    "        solvers.options['show_progress'] = False # supress solver output\n",
    "        \n",
    "        sol = solvers.qp(P, q, G, h, A, b)\n",
    "        alpha = np.array(list(sol['x']))\n",
    "        #print('alpha = ', sol['x'])\n",
    "        \n",
    "        weights = np.zeros(dim)\n",
    "        sv = []\n",
    "        sv_alphas = []\n",
    "        sv_outputs = []\n",
    "        for n in range(0, N):\n",
    "            if alpha[n] > 1e-5: # => xn[n] is support vector\n",
    "                sv.append(xn[n])\n",
    "                sv_alphas.append(alpha[n])\n",
    "                sv_outputs.append(yn[n])\n",
    "                    \n",
    "        # compute number of support vectors \n",
    "        num_sv = len(sv)\n",
    "        if (num_sv == 0):\n",
    "            raise Exception('There are no support vectors.')\n",
    "        \n",
    "        bs = []\n",
    "        for m in range(0, num_sv):\n",
    "            b = sv_outputs[m]\n",
    "            for n in range(0, num_sv):\n",
    "                if self.kernel == 'poly':\n",
    "                    kernel = self.kernel_poly(sv[n], sv[m])\n",
    "                elif self.kernel == 'rbf':\n",
    "                    kernel = self.kernel_rbf(sv[n], sv[m])\n",
    "                b -= sv_alphas[n] * sv_outputs[n] * kernel\n",
    "            bs.append(b)\n",
    "                \n",
    "        bs_round = np.round(bs, 1)\n",
    "        #print('bs sv = ', bs)\n",
    "        \n",
    "        #print('bs = ', bs)\n",
    "        #print('bs_round = ', bs_round)\n",
    "        #print('np.unique(bs_round) = ', np.unique(bs_round))\n",
    "        \n",
    "        #if (len(np.unique(bs_round)) != 1):\n",
    "        #    raise Exception('All support vectors must produce the same value of b.')\n",
    "            \n",
    "        weights = np.insert(weights, 0, b)\n",
    "        #print('weights = ', weights)\n",
    "\n",
    "        return np.array(sv_alphas), np.array(sv), np.array(sv_outputs), b\n",
    "    \n",
    "    def binary_error(self, sv_alphas, sv, sv_outputs, b, inputs, outputs):\n",
    "        \"\"\" Evaluate binary classification error. \n",
    "        Args:\n",
    "        sv_alphas (np.ndarray): Support vector Lagrange multipliers.\n",
    "        sv (np.ndarray): Support vectors.\n",
    "        sv_outputs (np.ndarray): Support vector outputs.\n",
    "        b (float): Constant.\n",
    "        inputs (np.ndarray): Inputs.\n",
    "        outputs (np.ndarray): Outputs.\n",
    "        Returns (float): Binary classification error percentage\n",
    "        \"\"\"\n",
    "        x = inputs\n",
    "        y = outputs\n",
    "        num_sv = len(sv)\n",
    "        \n",
    "        gs = []\n",
    "        for xm in x:\n",
    "            signal = 0.0\n",
    "            for n in range(0, num_sv):\n",
    "                if self.kernel == 'poly':\n",
    "                    kernel = self.kernel_poly(sv[n], xm)\n",
    "                elif self.kernel == 'rbf':\n",
    "                    kernel = self.kernel_rbf(sv[n], xm)\n",
    "                signal += sv_alphas[n] * sv_outputs[n] * kernel\n",
    "            signal += b\n",
    "            gs.append(signal)\n",
    "                \n",
    "        g = np.array(np.sign(gs))\n",
    "        return 100. * np.sum(y != g) / len(y)   \n",
    "    \n",
    "    # privates\n",
    "    def kernel_poly(self, xn, xm):\n",
    "        return (1.0 + np.dot(xn.T, xm))**self.Q\n",
    "    \n",
    "    def kernel_rbf(self, xn, xm):\n",
    "        return np.exp(-self.gamma * (np.linalg.norm(xn - xm)**2))"
   ]
  },
  {
   "cell_type": "markdown",
   "metadata": {},
   "source": [
    "### Question 11"
   ]
  },
  {
   "cell_type": "markdown",
   "metadata": {},
   "source": [
    "Since the hyperplane is described by the equation, $\\textbf{w}^{T}\\textbf{z} + b = 0$, we can now plot the hyperplanes given by the values of $w_{1}$, $w_{2}$, b: \n",
    "- [-1, 1, 0.5]\n",
    "- [1, -1, -0.5]\n",
    "- [1, 0, -0.5]\n",
    "- [0, 1, -0.5]"
   ]
  },
  {
   "cell_type": "code",
   "execution_count": 34,
   "metadata": {},
   "outputs": [
    {
     "data": {
      "image/png": "[encoded data removed]",
      "text/plain": [
       "<matplotlib.figure.Figure at 0x1ca254d4b00>"
      ]
     },
     "metadata": {},
     "output_type": "display_data"
    }
   ],
   "source": [
    "plot_data(train_inputs[:, 0:2], train_data[:, 2], features_names=['$z_{1}$', '$z_{2}$'], plot_hyperplanes=True)"
   ]
  },
  {
   "cell_type": "markdown",
   "metadata": {},
   "source": [
    "From the plot we can see that the red hyperplane ($w_{1} = 1.0, w_{2} = 0.0, b = -0.5$) is the only one that separates the data and as expected it is orthogonal to the weight vector $w = [1.0, 0.0]$. Furthermore, by inspection we can see that it separates the data with the maximum margin (as it bisects the closest points of the two classes), and that margin is 1.  "
   ]
  },
  {
   "cell_type": "markdown",
   "metadata": {},
   "source": [
    "### Question 12"
   ]
  },
  {
   "cell_type": "code",
   "execution_count": 35,
   "metadata": {},
   "outputs": [
    {
     "name": "stdout",
     "output_type": "stream",
     "text": [
      "The number of support vectors is 5\n"
     ]
    }
   ],
   "source": [
    "svm = SVM()\n",
    "alphas, support_vectors, outputs, b = svm.fit(train_data[:, 0:2], train_data[:, 2])\n",
    "print('The number of support vectors is', len(support_vectors))"
   ]
  },
  {
   "cell_type": "markdown",
   "metadata": {},
   "source": [
    "# Radial Basis Functions"
   ]
  },
  {
   "cell_type": "markdown",
   "metadata": {},
   "source": [
    "### Common code for questions 13-18"
   ]
  },
  {
   "cell_type": "markdown",
   "metadata": {},
   "source": [
    "We experiment with the RBF model, both in regular form (Lloyd + pseudo-inverse) with K centers:\n",
    "\n",
    "$$sign\\Bigg( \\sum_{k=1}^{K} w_{k}\\exp(- \\gamma \\Vert x - \\mu_{k} \\Vert)^{2} + b \\Bigg)$$\n",
    "\n",
    "(notice that there is a bias term), and in kernel form (using the RBF kernel in hardmargin SVM):\n",
    "\n",
    "$$sign\\Bigg( \\sum_{\\alpha_{n}\\gt 0} \\alpha_{n}y_n\\exp(- \\gamma \\Vert x - x_{n} \\Vert)^{2} + b \\Bigg)$$\n",
    "\n",
    "The input space is X = [−1,1]×[−1,1] with uniform probability distribution, and the target is\n",
    "\n",
    "$$f(x)=sign(x_{2}-x_{1}+0.25 \\sin(\\pi x_{1}))$$\n",
    "\n",
    "which is slightly nonlinear in the X space. In each run, generate 100 training points at random using this target, and apply both forms of RBF to these training points. \n",
    "\n",
    "Here are some guidelines: \n",
    "\n",
    "- Repeat the experiment for as many runs as needed to get the answer to be stable (statistically away from ﬂipping to the closest competing answer). \n",
    "\n",
    "- In case a data set is not separable in the ‘Z space’ by the RBF kernel using hardmargin SVM, discard the run but keep track of how often this happens, if ever.\n",
    "\n",
    "- When you use Lloyd’s algorithm, initialize the centers to random points in X and iterate until there is no change from iteration to iteration. If a cluster becomes empty, discard the run and repeat.\n"
   ]
  },
  {
   "cell_type": "markdown",
   "metadata": {},
   "source": [
    "Generate training inputs"
   ]
  },
  {
   "cell_type": "code",
   "execution_count": 36,
   "metadata": {},
   "outputs": [],
   "source": [
    "def generate_training_inputs(N=100):\n",
    "    return np.array([np.random.uniform(-1.0, 1.0, 2) for n in range(0, N)])"
   ]
  },
  {
   "cell_type": "markdown",
   "metadata": {},
   "source": [
    "Generate training targets"
   ]
  },
  {
   "cell_type": "code",
   "execution_count": 37,
   "metadata": {},
   "outputs": [],
   "source": [
    "def compute_targets(inputs):\n",
    "    x1 = inputs[:, 0]\n",
    "    x2 = inputs[:, 1]\n",
    "    return np.sign(x1 - x2 + 0.25 * np.sin(np.pi * x1))"
   ]
  },
  {
   "cell_type": "markdown",
   "metadata": {},
   "source": [
    "Run SVM trials with RBF kernel"
   ]
  },
  {
   "cell_type": "code",
   "execution_count": 38,
   "metadata": {},
   "outputs": [],
   "source": [
    "def run_svm_trials(N=100, n_trials=100, gamma=1.5):\n",
    "    ein = 0.\n",
    "    non_sep_count = 0\n",
    "    \n",
    "    for n_trial in range(0, n_trials):\n",
    "        train_inputs = generate_training_inputs(N)\n",
    "        train_outputs = compute_targets(train_inputs)\n",
    "        \n",
    "        svm = SVM(kernel='rbf', gamma=gamma)\n",
    "        alphas, sv, sv_outputs, b = svm.fit(train_inputs, train_outputs)\n",
    "        ein += svm.binary_error(alphas, sv, sv_outputs, b, train_inputs, train_outputs)\n",
    "        \n",
    "        if ein > 0.0:\n",
    "            non_sep_count += 1\n",
    "    \n",
    "    return non_sep_count / n_trials"
   ]
  },
  {
   "cell_type": "code",
   "execution_count": 39,
   "metadata": {},
   "outputs": [],
   "source": [
    "class KKMeans:\n",
    "    \"\"\" Class that performs K-means clustering using Lloyd's algorithm. \"\"\"\n",
    "    \n",
    "    @staticmethod\n",
    "    def fit(inputs, K=3, n_runs = 1, max_iter=300, tol=0.0001):\n",
    "        \"\"\" Cluster inputs into K clusters using Lloyd's algorithm. \n",
    "        Args:\n",
    "        inputs (np.ndarray): Inputs.\n",
    "        K (int): Number of clusters.\n",
    "        n_runs (int): Number of times to run Lloyd's algorithm (it falls into local minima)\n",
    "        max_iter (int): Maximum number of iterations\n",
    "        tol (float): Convergence tolerance\n",
    "        Returns Tuple(np.ndarray, np.ndarray): Centroids of clusters (μ1, ..., μk) and cluster labels of inputs\n",
    "        \"\"\"\n",
    "        run_cluster_labels = []\n",
    "        run_centroids = []\n",
    "        \n",
    "        for run in range(0, n_runs):\n",
    "            \n",
    "            # initialize K centroids at random (note we could also initialize clusters instead)\n",
    "            centroids = generate_training_inputs(K)\n",
    "\n",
    "            min_distance = sys.float_info.max\n",
    "            for iteration in range(0, max_iter):\n",
    "\n",
    "                # assign inputs to cluster with closest centroid\n",
    "                cluster_labels = []\n",
    "                for inputt in inputs:\n",
    "                    distances = []\n",
    "                    for centroid in centroids:\n",
    "                        distance = np.linalg.norm(inputt - centroid)\n",
    "                        distances.append(distance)\n",
    "                    cluster_num = np.argmin(distances)\n",
    "                    cluster_labels.append(cluster_num)\n",
    "                    #print(\"{0} assigned to cluster {1}\".format(inputt, cluster_num))\n",
    "                #print('cluster labels = ', cluster_labels)\n",
    "\n",
    "                # if a cluster is empty discard the run\n",
    "                if set(cluster_labels) != set(range(0, K)):\n",
    "                    return (np.array([]), np.array([]))\n",
    "\n",
    "                prev_centroids = centroids\n",
    "\n",
    "                # compute cluster centroids\n",
    "                centroids = []\n",
    "                for cluster_label in range(0, K):\n",
    "                    input_idxs = [i for i, label in enumerate(cluster_labels) if label == cluster_label]\n",
    "                    #print('indices = ', input_idxs)\n",
    "                    mean_cluster = np.mean(inputs[input_idxs], axis=0)\n",
    "                    #print('mean cluster = ', mean_cluster)\n",
    "                    centroids.append(mean_cluster)              \n",
    "                centroids = np.array(centroids)\n",
    "\n",
    "                #print('iteration = ', iteration+1)\n",
    "\n",
    "                # check for convergence\n",
    "                #print('prev_centroids = ', prev_centroids)\n",
    "                #print('centroids = ', centroids)\n",
    "                if iteration > 0: \n",
    "                    if np.linalg.norm(prev_centroids - centroids) < tol and prev_cluster_labels == cluster_labels:\n",
    "                        #print('Converged')\n",
    "                        break\n",
    "\n",
    "                prev_cluster_labels = cluster_labels\n",
    "                \n",
    "            run_centroids.append(centroids)\n",
    "            run_cluster_labels.append(cluster_labels)\n",
    "            \n",
    "        high_count_index = KKMeans.arg_max_run_clusters(run_cluster_labels, K, n_runs)\n",
    "        \n",
    "        return run_centroids[high_count_index], np.array(run_centroids[high_count_index])\n",
    "    \n",
    "    # privates\n",
    "    @staticmethod\n",
    "    def arg_max_run_clusters(run_cluster_labels, K, n_runs):\n",
    "        counts = {}\n",
    "        run_clusters = []\n",
    "        for run in range(0, len(run_cluster_labels)):\n",
    "            run_cluster = []\n",
    "            for k in range(0, K):\n",
    "                indices = [i for i, x in enumerate(run_cluster_labels[run]) if x == k]\n",
    "                run_cluster.append(indices)\n",
    "            run_cluster.sort()\n",
    "\n",
    "            if run_cluster not in run_clusters:\n",
    "                run_clusters.append(run_cluster)\n",
    "                counts[run] = 1\n",
    "            else:\n",
    "                run_clusters.append([])\n",
    "                index = run_clusters.index(run_cluster)\n",
    "                counts[index] += 1\n",
    "                \n",
    "        high_count_index = max(counts, key=counts.get)\n",
    "        return high_count_index"
   ]
  },
  {
   "cell_type": "code",
   "execution_count": 40,
   "metadata": {},
   "outputs": [],
   "source": [
    "class RBF:\n",
    "    \"\"\" Class that performs Radial Basis Functions (RBF) classification using pseudo-inverse algorithm. \"\"\"\n",
    "    \n",
    "    def __init__(self, gamma=1.0, K=3):\n",
    "        \"\"\" Create a Radial Basis Functions Algorithm (RBF). \n",
    "        Args:\n",
    "        gamma (float): Constant in the RBF kernel\n",
    "        K (int): Number of clusters\n",
    "        \"\"\"\n",
    "        self.gamma = gamma\n",
    "        self.K = K\n",
    "    \n",
    "    def fit(self, inputs, outputs):\n",
    "        \"\"\" Fit the training data using Lloyds algorithm + RBF pseudo-inverse learning algorithm. \n",
    "        Args:\n",
    "        inputs (np.ndarray): Inputs.\n",
    "        outputs (np.ndarray): Outputs\n",
    "        Returns Tuple(np.ndarray, np.ndarray): Weights and cluster centroids\n",
    "        \"\"\"\n",
    "        x = inputs\n",
    "        y = outputs\n",
    "        N = len(x)\n",
    "        \n",
    "        # cluster the inputs to obtain centroids mu\n",
    "        mu, labels = KKMeans.fit(inputs, self.K)\n",
    "        if np.size(mu) == 0:\n",
    "            return (np.array([]), np.array([]))\n",
    "        \n",
    "        # construct phi matrix\n",
    "        phi = []\n",
    "        for row_idx in range(0, N):\n",
    "            for col_idx in range(0, self.K):\n",
    "                kernel = self.kernel_rbf(x[row_idx], mu[col_idx])\n",
    "                phi.append(kernel)\n",
    "        phi = np.array(phi).reshape((N, self.K))\n",
    "        \n",
    "        # pseudo-inverse solution\n",
    "        phi_trans = np.transpose(phi)\n",
    "        norm_phi = np.matmul(phi_trans, phi)  \n",
    "        weights = np.matmul(np.linalg.inv(norm_phi), np.matmul(phi_trans, y))\n",
    "        \n",
    "        return weights, mu\n",
    "    \n",
    "    def binary_error(self, weights, centroids, inputs, outputs):\n",
    "        \"\"\" Evaluate binary classification error. \n",
    "        Args:\n",
    "        weights (np.ndarray): Weights.\n",
    "        centroids (np.ndarray): Centroids of clusters\n",
    "        inputs (np.ndarray): Inputs.\n",
    "        outputs (np.ndarray): Outputs.\n",
    "        Returns (float): Binary classification error percentage\n",
    "        \"\"\"\n",
    "        x = inputs\n",
    "        y = outputs\n",
    "        N = len(x)\n",
    "        mu = centroids\n",
    "        \n",
    "        # construct phi matrix\n",
    "        phi = []\n",
    "        for row_idx in range(0, N):\n",
    "            for col_idx in range(0, self.K):\n",
    "                kernel = self.kernel_rbf(x[row_idx], mu[col_idx])\n",
    "                phi.append(kernel)\n",
    "        phi = np.array(phi).reshape((N, self.K))\n",
    "        \n",
    "        # construct predictions and error percentage\n",
    "        signal = np.matmul(phi, weights)\n",
    "        g = np.sign(signal)\n",
    "        return 100. * np.sum(y != g) / len(y)   \n",
    "        \n",
    "    # privates\n",
    "    def kernel_rbf(self, xn, muk):\n",
    "        return np.exp(-self.gamma * (np.linalg.norm(xn - muk)**2))"
   ]
  },
  {
   "cell_type": "markdown",
   "metadata": {},
   "source": [
    "Compare regular RBF with kernel form"
   ]
  },
  {
   "cell_type": "code",
   "execution_count": 41,
   "metadata": {},
   "outputs": [],
   "source": [
    "def run_regular_kernel_trials(N=100, n_trials=100, K=9, gamma=1.5):\n",
    "    \n",
    "    non_sep_count = 0\n",
    "    empty_cluster_count = 0\n",
    "    wins_svm = 0\n",
    "    \n",
    "    for n_trial in range(0, n_trials):\n",
    "        # generate training data\n",
    "        train_inputs = generate_training_inputs(N)\n",
    "        train_outputs = compute_targets(train_inputs)\n",
    "        \n",
    "        # run SVM\n",
    "        svm = SVM(kernel='rbf', gamma=gamma)\n",
    "        alphas, sv, sv_outputs, b = svm.fit(train_inputs, train_outputs)\n",
    "        \n",
    "        # check if non-separable\n",
    "        ein = svm.binary_error(alphas, sv, sv_outputs, b, train_inputs, train_outputs)\n",
    "        if ein > 0.0:\n",
    "            non_sep_count += 1\n",
    "            continue\n",
    "        \n",
    "        # run regular RBF\n",
    "        rbf = RBF(gamma, K)\n",
    "        weights, centroids = rbf.fit(train_inputs, train_outputs)\n",
    "        \n",
    "        # check if empty clusters\n",
    "        if np.size(weights) == 0:\n",
    "            empty_cluster_count += 1\n",
    "            continue\n",
    "        \n",
    "        # generate out of sample data\n",
    "        test_inputs = generate_training_inputs(N*10)\n",
    "        test_outputs = compute_targets(test_inputs)\n",
    "        \n",
    "        # compute and compare out of sample errors\n",
    "        eout_svm = svm.binary_error(alphas, sv, sv_outputs, b, test_inputs, test_outputs)\n",
    "        eout_rbf = rbf.binary_error(weights, centroids, test_inputs, test_outputs) \n",
    "        \n",
    "        if eout_svm < eout_rbf:\n",
    "            wins_svm +=1\n",
    "            \n",
    "    win_percent = 100. * wins_svm / (n_trials - non_sep_count - empty_cluster_count)\n",
    "    return (win_percent, non_sep_count, empty_cluster_count)"
   ]
  },
  {
   "cell_type": "markdown",
   "metadata": {},
   "source": [
    "Compare regular RBF for different parameter values"
   ]
  },
  {
   "cell_type": "code",
   "execution_count": 42,
   "metadata": {},
   "outputs": [],
   "source": [
    "def run_reg_rbf_param_trials(N=100, n_trials=100, Ks=[9], gammas=[1.5]):\n",
    "    \n",
    "    empty_cluster_count = 0\n",
    "    ein_down_eout_up = 0\n",
    "    ein_up_eout_down = 0\n",
    "    both_up = 0\n",
    "    both_down = 0\n",
    "    both_same = 0\n",
    "    \n",
    "    for n_trial in range(0, n_trials):\n",
    "        eins = []\n",
    "        eouts = []\n",
    "        for K in Ks:\n",
    "            for gamma in gammas:\n",
    "                \n",
    "                # generate training data\n",
    "                train_inputs = generate_training_inputs(N)\n",
    "                train_outputs = compute_targets(train_inputs)\n",
    "\n",
    "                # run regular RBF\n",
    "                rbf = RBF(gamma, K)\n",
    "                weights, centroids = rbf.fit(train_inputs, train_outputs)\n",
    "\n",
    "                # check if empty clusters\n",
    "                if np.size(weights) == 0:\n",
    "                    empty_cluster_count += 1\n",
    "                    continue\n",
    "\n",
    "                # generate out of sample data\n",
    "                test_inputs = generate_training_inputs(N*10)\n",
    "                test_outputs = compute_targets(test_inputs)\n",
    "\n",
    "                # compute and compare values of in and out of sample errors\n",
    "                ein = rbf.binary_error(weights, centroids, train_inputs, train_outputs) \n",
    "                eout = rbf.binary_error(weights, centroids, test_inputs, test_outputs) \n",
    "                \n",
    "                eins.append(ein)\n",
    "                eouts.append(eout)\n",
    "        \n",
    "        # skip comparisons if empty cluster\n",
    "        if len(eins) < 2 or len(eouts) < 2:\n",
    "            continue\n",
    "        \n",
    "        # perform comparisons for Ein and Eout\n",
    "        if (eins[1] > eins[0]) and (eouts[1] > eouts[0]):\n",
    "            both_up += 1\n",
    "        elif (eins[1] < eins[0]) and (eouts[1] < eouts[0]):\n",
    "            both_down += 1\n",
    "        elif (eins[1] > eins[0]) and (eouts[1] < eouts[0]):\n",
    "            ein_up_eout_down += 1\n",
    "        elif (eins[1] < eins[0]) and (eouts[1] > eouts[0]):\n",
    "            ein_down_eout_up += 1\n",
    "        else:\n",
    "            both_same += 1\n",
    "    \n",
    "    counts = {'Ein goes down, but Eout goes up': ein_down_eout_up,\n",
    "              'Ein goes up, but Eout goes down ': ein_up_eout_down,\n",
    "              'Both Ein and Eout go up': both_up,\n",
    "              'Both Ein and Eout go down': both_down,\n",
    "              'Ein and Eout remain the same': both_same\n",
    "             }\n",
    "    \n",
    "    return counts"
   ]
  },
  {
   "cell_type": "markdown",
   "metadata": {},
   "source": [
    "Run regular RBF trials"
   ]
  },
  {
   "cell_type": "code",
   "execution_count": 43,
   "metadata": {},
   "outputs": [],
   "source": [
    "def run_reg_rbf_trials(N=100, n_trials=100, K=9, gamma=1.5):\n",
    "    \n",
    "    empty_cluster_count = 0\n",
    "    ein_zero_count = 0\n",
    "    \n",
    "    for n_trial in range(0, n_trials):\n",
    "        # generate training data\n",
    "        train_inputs = generate_training_inputs(N)\n",
    "        train_outputs = compute_targets(train_inputs)\n",
    "        \n",
    "        # run regular RBF\n",
    "        rbf = RBF(gamma, K)\n",
    "        weights, centroids = rbf.fit(train_inputs, train_outputs)\n",
    "        \n",
    "        # check if empty clusters\n",
    "        if np.size(weights) == 0:\n",
    "            empty_cluster_count += 1\n",
    "            continue\n",
    "        \n",
    "        # compute in sample error\n",
    "        ein = rbf.binary_error(weights, centroids, train_inputs, train_outputs) \n",
    "        \n",
    "        if ein == 0.0:\n",
    "            ein_zero_count +=1\n",
    "            \n",
    "    ein_zero_percent = 100. * ein_zero_count / (n_trials - empty_cluster_count)\n",
    "    return (ein_zero_percent, empty_cluster_count)"
   ]
  },
  {
   "cell_type": "markdown",
   "metadata": {},
   "source": [
    "### Question 13"
   ]
  },
  {
   "cell_type": "code",
   "execution_count": 44,
   "metadata": {},
   "outputs": [
    {
     "name": "stdout",
     "output_type": "stream",
     "text": [
      "The data set is not separable by the RBF kernel 0.0% of the time in 100 runs.\n"
     ]
    }
   ],
   "source": [
    "n_trials=100\n",
    "non_sep_percent = run_svm_trials(100, n_trials)\n",
    "print(\"The data set is not separable by the RBF kernel {0}% of the time in {1} runs.\"\n",
    "      .format(round(non_sep_percent, 2), n_trials))"
   ]
  },
  {
   "cell_type": "markdown",
   "metadata": {},
   "source": [
    "### Question 14"
   ]
  },
  {
   "cell_type": "code",
   "execution_count": 45,
   "metadata": {},
   "outputs": [
    {
     "name": "stdout",
     "output_type": "stream",
     "text": [
      "For K = 9 and γ = 1.5 the kernel form beats the regular form 86.17% of the time in 94 runs (0 runs not separable, 6 runs with empty clusters).\n"
     ]
    }
   ],
   "source": [
    "n_trials = 100\n",
    "K = 9\n",
    "gamma = 1.5\n",
    "win_percent, non_sep_count, empty_cluster_count = run_regular_kernel_trials(100, n_trials, K, gamma)\n",
    "print(\"For K = {0} and γ = {1} the kernel form beats the regular form {2}% of the time in {3} runs ({4} runs not separable, \"\n",
    "      \"{5} runs with empty clusters).\"\n",
    "      .format(K, gamma, round(win_percent, 2), n_trials - non_sep_count - empty_cluster_count, non_sep_count, empty_cluster_count))"
   ]
  },
  {
   "cell_type": "markdown",
   "metadata": {},
   "source": [
    "## Question 15"
   ]
  },
  {
   "cell_type": "code",
   "execution_count": 46,
   "metadata": {},
   "outputs": [
    {
     "name": "stdout",
     "output_type": "stream",
     "text": [
      "For K = 12 and γ = 1.5 the kernel form beats the regular form 73.26% of the time in 86 runs (0 runs not separable, 14 runs with empty clusters).\n"
     ]
    }
   ],
   "source": [
    "n_trials = 100\n",
    "K = 12\n",
    "gamma = 1.5\n",
    "win_percent, non_sep_count, empty_cluster_count = run_regular_kernel_trials(100, n_trials, K, gamma)\n",
    "print(\"For K = {0} and γ = {1} the kernel form beats the regular form {2}% of the time in {3} runs ({4} runs not separable, \"\n",
    "      \"{5} runs with empty clusters).\"\n",
    "      .format(K, gamma, round(win_percent, 2), n_trials - non_sep_count - empty_cluster_count, non_sep_count, empty_cluster_count))"
   ]
  },
  {
   "cell_type": "markdown",
   "metadata": {},
   "source": [
    "### Question 16"
   ]
  },
  {
   "cell_type": "code",
   "execution_count": 47,
   "metadata": {},
   "outputs": [
    {
     "name": "stdout",
     "output_type": "stream",
     "text": [
      "For regular RBF with γ = 1.5. If we go from K = 9 clusters to K = 12 clusters then 'Both Ein and Eout go down' happens the most (22 times) (excluding runs with empty clusters).\n"
     ]
    }
   ],
   "source": [
    "n_trials = 100\n",
    "Ks=[9, 12]\n",
    "gammas=[1.5]\n",
    "counts = run_reg_rbf_param_trials(100, n_trials, Ks, gammas)\n",
    "max_counts = max(counts, key=counts.get)\n",
    "print(\"For regular RBF with γ = {0}. If we go from K = {1} clusters to K = {2} clusters then '{3}' happens the most ({4} times)\"\n",
    "      \" (excluding runs with empty clusters).\"\n",
    "      .format(gammas[0], Ks[0], Ks[1], max_counts, counts[max_counts]))"
   ]
  },
  {
   "cell_type": "markdown",
   "metadata": {},
   "source": [
    "### Question 17"
   ]
  },
  {
   "cell_type": "code",
   "execution_count": 48,
   "metadata": {},
   "outputs": [
    {
     "name": "stdout",
     "output_type": "stream",
     "text": [
      "For regular RBF with K = 9 clusters. If we go from γ = 1.5 clusters to γ = 2.0 clusters then 'Both Ein and Eout go up' happens the most (28 times) (excluding runs with empty clusters).\n"
     ]
    }
   ],
   "source": [
    "n_trials = 100\n",
    "Ks=[9]\n",
    "gammas=[1.5, 2.0]\n",
    "counts = run_reg_rbf_param_trials(100, n_trials, Ks, gammas)\n",
    "max_counts = max(counts, key=counts.get)\n",
    "print(\"For regular RBF with K = {0} clusters. If we go from γ = {1} clusters to γ = {2} clusters then '{3}' happens the most\"\n",
    "      \" ({4} times) (excluding runs with empty clusters).\"\n",
    "      .format(Ks[0], gammas[0], gammas[1], max_counts, counts[max_counts]))"
   ]
  },
  {
   "cell_type": "markdown",
   "metadata": {},
   "source": [
    "### Question 18"
   ]
  },
  {
   "cell_type": "code",
   "execution_count": 49,
   "metadata": {},
   "outputs": [
    {
     "name": "stdout",
     "output_type": "stream",
     "text": [
      "The regular RBF achives Ein = 0 with K = 9 and γ = 1.5, 1.09% of the time (excluding 8 runs with empty clusters).\n"
     ]
    }
   ],
   "source": [
    "n_trials = 100\n",
    "K = 9\n",
    "gamma = 1.5\n",
    "ein_zero_percent, empty_cluster_count = run_reg_rbf_trials(100, n_trials, K, gamma)\n",
    "print(\"The regular RBF achives Ein = 0 with K = {0} and γ = {1}, {2}% of the time (excluding {3} runs with empty clusters).\"\n",
    "      .format(K, gamma, round(ein_zero_percent, 2), empty_cluster_count))"
   ]
  }
 ],
 "metadata": {
  "kernelspec": {
   "display_name": "Python 3",
   "language": "python",
   "name": "python3"
  },
  "language_info": {
   "codemirror_mode": {
    "name": "ipython",
    "version": 3
   },
   "file_extension": ".py",
   "mimetype": "text/x-python",
   "name": "python",
   "nbconvert_exporter": "python",
   "pygments_lexer": "ipython3",
   "version": "3.6.4"
  }
 },
 "nbformat": 4,
 "nbformat_minor": 2
}
