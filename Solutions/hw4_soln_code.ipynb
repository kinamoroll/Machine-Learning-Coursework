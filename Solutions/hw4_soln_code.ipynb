
{
 "cells": [
  {
   "cell_type": "code",
   "execution_count": 1,
   "metadata": {},
   "outputs": [],
   "source": [
    "%matplotlib inline\n",
    "\n",
    "import numpy as np\n",
    "import matplotlib.pyplot as plt\n",
    "\n",
    "from numpy.linalg import inv\n",
    "from math import log, sqrt, ceil, sin, pi\n",
    "\n",
    "from enum import Enum"
   ]
  },
  {
   "cell_type": "markdown",
   "metadata": {},
   "source": [
    "Generalization Error"
   ]
  },
  {
   "cell_type": "code",
   "execution_count": 2,
   "metadata": {},
   "outputs": [],
   "source": [
    "class NumberOfExamples:\n",
    "     \"\"\"Class for computing minimum number of training examples needed\"\"\"\n",
    "    \n",
    "#@staticmethod\n",
    "def VC(eps, delta, vcdim):\n",
    "    \"\"\"Compute number of training examples needed using the VC Bound\n",
    "    Args:\n",
    "    eps (float): Difference between \n",
    "    delta (float): 0.0 <= probability that epsilon will hold <= 1.0\n",
    "    vcdim (int): VC dimension\n",
    "    Returns:\n",
    "    N (int): Minimum number of training examples needed\n",
    "    \"\"\"\n",
    "    N_prev = 390000\n",
    "    tol=1.0\n",
    "    maxIter = 100\n",
    "    \n",
    "    # epsilon      \n",
    "    for i in range(0, maxIter):\n",