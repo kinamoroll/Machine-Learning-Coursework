{
 "cells": [
  {
   "cell_type": "code",
   "execution_count": 1,
   "metadata": {},
   "outputs": [],
   "source": [
    "import numpy as np\n",
    "\n",
    "from numpy.linalg import inv"
   ]
  },
  {
   "cell_type": "markdown",
   "metadata": {},
   "source": [
    "Regularization With Weight Decay"
   ]
  },
  {
   "cell_type": "code",
   "execution_count": 2,
   "metadata": {},
   "outputs": [],
   "source": [
    "# Load training and testing sets\n",
    "train_set = np.array(\n",
    "[ -7.7947021e-01,   8.3822138e-01,   1.0000000e+00,\n",
    "   1.5563491e-01,   8.9537743e-01,   1.0000000e+00,\n",
    "  -5.9907703e-02,  -7.1777995e-01,   1.0000000e+00,\n",
    "   2.0759636e-01,   7.5893338e-01,   1.0000000e+00,\n",
    "  -1.9598312e-01,  -3.7548716e-01,  -1.0000000e+00,\n",
    "   5.8848947e-01,  -8.4255381e-01,   1.0000000e+00,\n",
    "   7.1985874e-03,  -5.4831650e-01,  -1.0000000e+00,\n",
    "   7.3883852e-01,  -6.0339369e-01,   1.0000000e+00,\n",
    "   7.0464808e-01,  -2.0420052e-02,   1.0000000e+00,\n",
    "   9.6992666e-01,   6.4137120e-01,  -1.0000000e+00,\n",
    "   4.3543099e-01,   7.4477254e-01,  -1.0000000e+00,\n",
    "  -8.4425822e-01,   7.42