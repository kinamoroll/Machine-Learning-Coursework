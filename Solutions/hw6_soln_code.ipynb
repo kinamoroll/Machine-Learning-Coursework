{
 "cells": [
  {
   "cell_type": "code",
   "execution_count": 1,
   "metadata": {},
   "outputs": [],
   "source": [
    "import numpy as np\n",
    "\n",
    "from numpy.linalg import inv"
   ]
  },
  {
   "cell_type": "markdown",
   "metadata": {},
   "source": [
    "Regularization With Weight Decay"
   ]
  },
  {
   "cell_type": "code",
   "execution_count": 2,
   "metadata": {},
   "outputs": [],
   "source": [
    "# Load training and testing sets\n",
    "train_set = np.array(\n",
    "[ -7.7947021e-01,   8.3822138e-01,   1.0000000e+00,\n",
    "   1.5563491e-01,   8.9537743e-01,   1.0000000e+00,\n",
    "  -5.9907703e-02